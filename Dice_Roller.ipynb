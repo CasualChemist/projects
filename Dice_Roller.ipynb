{
  "nbformat": 4,
  "nbformat_minor": 0,
  "metadata": {
    "colab": {
      "name": "Dice Roller.ipynb",
      "provenance": [],
      "authorship_tag": "ABX9TyNbs/AMk1M1+5qSwpQHZ/hB"
    },
    "kernelspec": {
      "name": "python3",
      "display_name": "Python 3"
    }
  },
  "cells": [
    {
      "cell_type": "code",
      "metadata": {
        "id": "egw3XONrb-CI"
      },
      "source": [
        "# using random to determine a random integer later\r\n",
        "import random\r\n",
        "\r\n",
        "# defining a function to allow for quick stat rolls for\r\n",
        "# D&D 5e. The DM prefers high power campaigns so his\r\n",
        "# rule is 5d6k3R2, or 5 six sided die, keep the 3 highest,\r\n",
        "# reroll 1s and 2s until you get a higher number.\r\n",
        "def roll(dice, faces, keep, reroll):\r\n",
        "  results = []\r\n",
        "  scores = []\r\n",
        "  ability = 0\r\n",
        "  m = 0\r\n",
        "  for stats in range(6):\r\n",
        "    for number in range(dice):\r\n",
        "      n = random.randint(reroll + 1, faces)\r\n",
        "      scores.append(n)\r\n",
        "    scores.sort(reverse=True)\r\n",
        "    print('The rolls were {}'.format(scores[:]))\r\n",
        "    for die in range(keep):\r\n",
        "      m = die\r\n",
        "      ability = ability + scores[m]\r\n",
        "    results.append(ability)\r\n",
        "    scores = []\r\n",
        "    ability = 0\r\n",
        "  print(\"Your stats are {}\".format(results[:]))"
      ],
      "execution_count": 8,
      "outputs": []
    },
    {
      "cell_type": "code",
      "metadata": {
        "id": "efocbBZfiDrQ",
        "colab": {
          "base_uri": "https://localhost:8080/"
        },
        "outputId": "1d06dfa2-0724-413c-a79e-600a81e2ae73"
      },
      "source": [
        "# test rolls to make sure the code works\r\n",
        "roll(5, 6, 3, 2)"
      ],
      "execution_count": 9,
      "outputs": [
        {
          "output_type": "stream",
          "text": [
            "The rolls were [6, 6, 5, 5, 4]\n",
            "The rolls were [5, 4, 4, 3, 3]\n",
            "The rolls were [6, 6, 5, 5, 5]\n",
            "The rolls were [6, 6, 5, 5, 3]\n",
            "The rolls were [6, 5, 4, 4, 3]\n",
            "The rolls were [5, 5, 3, 3, 3]\n",
            "Your stats are [17, 13, 17, 17, 15, 13]\n"
          ],
          "name": "stdout"
        }
      ]
    },
    {
      "cell_type": "code",
      "metadata": {
        "id": "ZMigc2Fxw7d7"
      },
      "source": [
        ""
      ],
      "execution_count": null,
      "outputs": []
    }
  ]
}