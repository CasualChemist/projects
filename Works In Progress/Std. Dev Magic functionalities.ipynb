{
 "cells": [
  {
   "cell_type": "code",
   "execution_count": 1,
   "metadata": {},
   "outputs": [],
   "source": [
    "import pandas as pd"
   ]
  },
  {
   "cell_type": "code",
   "execution_count": 5,
   "metadata": {},
   "outputs": [],
   "source": [
    "df = pd.read_csv('D:/Documents/GitHub/usefulcardinfo.csv', low_memory = False, sep = '|')"
   ]
  },
  {
   "cell_type": "code",
   "execution_count": 8,
   "metadata": {},
   "outputs": [
    {
     "name": "stdout",
     "output_type": "stream",
     "text": [
      "Index(['Unnamed: 0', 'name', 'object', 'multiverse_ids', 'lang', 'layout',\n",
      "       'highres_image', 'image_uris', 'mana_cost', 'cmc', 'type_line',\n",
      "       'colors', 'color_identity', 'legalities', 'reserved', 'foil', 'nonfoil',\n",
      "       'finishes', 'promo', 'variation', 'set_name', 'collector_number',\n",
      "       'digital', 'rarity', 'card_back_id', 'full_art', 'textless', 'prices',\n",
      "       'oracle_id', 'released_at', 'reprint', 'image_status', 'games',\n",
      "       'oversized', 'set_ids', 'set_type', 'set', 'printed_name',\n",
      "       'security_stamp', 'all_parts', 'promo_types', 'arena_id', 'watermark',\n",
      "       'frame_effects', 'preview', 'produced_mana', 'card_faces',\n",
      "       'content_warning', 'variation_of', 'flavor_name'],\n",
      "      dtype='object')\n"
     ]
    }
   ],
   "source": [
    "print(df.columns)"
   ]
  },
  {
   "cell_type": "code",
   "execution_count": 28,
   "metadata": {},
   "outputs": [],
   "source": [
    "def check():\n",
    "    print(\"What card are you looking for?\")\n",
    "    card = str(input())\n",
    "    if card in df['name'].values:\n",
    "        new_df = df[df['name'] == card]\n",
    "        print(f\"Number of cards in database: {len(new_df)}\")\n",
    "    else:\n",
    "        print(\"Card not found.\")"
   ]
  },
  {
   "cell_type": "code",
   "execution_count": 30,
   "metadata": {},
   "outputs": [
    {
     "name": "stdout",
     "output_type": "stream",
     "text": [
      "What card are you looking for?\n",
      "Daryl, Hunter of Walkers\n",
      "Number of cards in database: 1\n"
     ]
    }
   ],
   "source": [
    "check()"
   ]
  },
  {
   "cell_type": "code",
   "execution_count": 34,
   "metadata": {},
   "outputs": [],
   "source": [
    "twd = df[df['name'] == 'Daryl, Hunter of Walkers']\n",
    "twd_reskin = df[df['flavor_name'] == 'Daryl, Hunter of Walkers']"
   ]
  },
  {
   "cell_type": "code",
   "execution_count": 33,
   "metadata": {},
   "outputs": [
    {
     "data": {
      "text/html": [
       "<div>\n",
       "<style scoped>\n",
       "    .dataframe tbody tr th:only-of-type {\n",
       "        vertical-align: middle;\n",
       "    }\n",
       "\n",
       "    .dataframe tbody tr th {\n",
       "        vertical-align: top;\n",
       "    }\n",
       "\n",
       "    .dataframe thead th {\n",
       "        text-align: right;\n",
       "    }\n",
       "</style>\n",
       "<table border=\"1\" class=\"dataframe\">\n",
       "  <thead>\n",
       "    <tr style=\"text-align: right;\">\n",
       "      <th></th>\n",
       "      <th>Unnamed: 0</th>\n",
       "      <th>name</th>\n",
       "      <th>object</th>\n",
       "      <th>multiverse_ids</th>\n",
       "      <th>lang</th>\n",
       "      <th>layout</th>\n",
       "      <th>highres_image</th>\n",
       "      <th>image_uris</th>\n",
       "      <th>mana_cost</th>\n",
       "      <th>cmc</th>\n",
       "      <th>...</th>\n",
       "      <th>promo_types</th>\n",
       "      <th>arena_id</th>\n",
       "      <th>watermark</th>\n",
       "      <th>frame_effects</th>\n",
       "      <th>preview</th>\n",
       "      <th>produced_mana</th>\n",
       "      <th>card_faces</th>\n",
       "      <th>content_warning</th>\n",
       "      <th>variation_of</th>\n",
       "      <th>flavor_name</th>\n",
       "    </tr>\n",
       "  </thead>\n",
       "  <tbody>\n",
       "    <tr>\n",
       "      <th>17793</th>\n",
       "      <td>17793</td>\n",
       "      <td>Daryl, Hunter of Walkers</td>\n",
       "      <td>card</td>\n",
       "      <td>[497506]</td>\n",
       "      <td>en</td>\n",
       "      <td>normal</td>\n",
       "      <td>True</td>\n",
       "      <td>{'small': 'https://c1.scryfall.com/file/scryfa...</td>\n",
       "      <td>{2}{R}{G}</td>\n",
       "      <td>4.0</td>\n",
       "      <td>...</td>\n",
       "      <td>No info</td>\n",
       "      <td>No info</td>\n",
       "      <td>No info</td>\n",
       "      <td>['legendary']</td>\n",
       "      <td>{'source': 'Wizards of the Coast', 'source_uri...</td>\n",
       "      <td>No info</td>\n",
       "      <td>No info</td>\n",
       "      <td>No info</td>\n",
       "      <td>No info</td>\n",
       "      <td>No info</td>\n",
       "    </tr>\n",
       "  </tbody>\n",
       "</table>\n",
       "<p>1 rows × 50 columns</p>\n",
       "</div>"
      ],
      "text/plain": [
       "       Unnamed: 0                      name object multiverse_ids lang  \\\n",
       "17793       17793  Daryl, Hunter of Walkers   card       [497506]   en   \n",
       "\n",
       "       layout  highres_image  \\\n",
       "17793  normal           True   \n",
       "\n",
       "                                              image_uris  mana_cost  cmc  ...  \\\n",
       "17793  {'small': 'https://c1.scryfall.com/file/scryfa...  {2}{R}{G}  4.0  ...   \n",
       "\n",
       "      promo_types arena_id watermark  frame_effects  \\\n",
       "17793     No info  No info   No info  ['legendary']   \n",
       "\n",
       "                                                 preview  produced_mana  \\\n",
       "17793  {'source': 'Wizards of the Coast', 'source_uri...        No info   \n",
       "\n",
       "       card_faces content_warning  variation_of  flavor_name  \n",
       "17793     No info         No info       No info      No info  \n",
       "\n",
       "[1 rows x 50 columns]"
      ]
     },
     "execution_count": 33,
     "metadata": {},
     "output_type": "execute_result"
    }
   ],
   "source": [
    "twd.head()"
   ]
  },
  {
   "cell_type": "code",
   "execution_count": 35,
   "metadata": {},
   "outputs": [
    {
     "data": {
      "text/html": [
       "<div>\n",
       "<style scoped>\n",
       "    .dataframe tbody tr th:only-of-type {\n",
       "        vertical-align: middle;\n",
       "    }\n",
       "\n",
       "    .dataframe tbody tr th {\n",
       "        vertical-align: top;\n",
       "    }\n",
       "\n",
       "    .dataframe thead th {\n",
       "        text-align: right;\n",
       "    }\n",
       "</style>\n",
       "<table border=\"1\" class=\"dataframe\">\n",
       "  <thead>\n",
       "    <tr style=\"text-align: right;\">\n",
       "      <th></th>\n",
       "      <th>Unnamed: 0</th>\n",
       "      <th>name</th>\n",
       "      <th>object</th>\n",
       "      <th>multiverse_ids</th>\n",
       "      <th>lang</th>\n",
       "      <th>layout</th>\n",
       "      <th>highres_image</th>\n",
       "      <th>image_uris</th>\n",
       "      <th>mana_cost</th>\n",
       "      <th>cmc</th>\n",
       "      <th>...</th>\n",
       "      <th>promo_types</th>\n",
       "      <th>arena_id</th>\n",
       "      <th>watermark</th>\n",
       "      <th>frame_effects</th>\n",
       "      <th>preview</th>\n",
       "      <th>produced_mana</th>\n",
       "      <th>card_faces</th>\n",
       "      <th>content_warning</th>\n",
       "      <th>variation_of</th>\n",
       "      <th>flavor_name</th>\n",
       "    </tr>\n",
       "  </thead>\n",
       "  <tbody>\n",
       "  </tbody>\n",
       "</table>\n",
       "<p>0 rows × 50 columns</p>\n",
       "</div>"
      ],
      "text/plain": [
       "Empty DataFrame\n",
       "Columns: [Unnamed: 0, name, object, multiverse_ids, lang, layout, highres_image, image_uris, mana_cost, cmc, type_line, colors, color_identity, legalities, reserved, foil, nonfoil, finishes, promo, variation, set_name, collector_number, digital, rarity, card_back_id, full_art, textless, prices, oracle_id, released_at, reprint, image_status, games, oversized, set_ids, set_type, set, printed_name, security_stamp, all_parts, promo_types, arena_id, watermark, frame_effects, preview, produced_mana, card_faces, content_warning, variation_of, flavor_name]\n",
       "Index: []\n",
       "\n",
       "[0 rows x 50 columns]"
      ]
     },
     "execution_count": 35,
     "metadata": {},
     "output_type": "execute_result"
    }
   ],
   "source": [
    "twd_reskin.head()"
   ]
  },
  {
   "cell_type": "code",
   "execution_count": null,
   "metadata": {},
   "outputs": [],
   "source": []
  },
  {
   "cell_type": "code",
   "execution_count": null,
   "metadata": {},
   "outputs": [],
   "source": []
  }
 ],
 "metadata": {
  "kernelspec": {
   "display_name": "Python 3",
   "language": "python",
   "name": "python3"
  },
  "language_info": {
   "codemirror_mode": {
    "name": "ipython",
    "version": 3
   },
   "file_extension": ".py",
   "mimetype": "text/x-python",
   "name": "python",
   "nbconvert_exporter": "python",
   "pygments_lexer": "ipython3",
   "version": "3.8.5"
  }
 },
 "nbformat": 4,
 "nbformat_minor": 4
}
