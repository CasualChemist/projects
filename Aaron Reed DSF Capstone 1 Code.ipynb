{
 "cells": [
  {
   "cell_type": "markdown",
   "metadata": {},
   "source": [
    "Magic: the Gathering (Magic) is the most successful and enduring trading card game in existence. It was introduced in 1993 and new cards are introduced around every three months if not more often. In 2018, the online platform Magic Arena purportedly made over $10 million in digital gaming revenue. The 2020 sets have seen \"double digit growth\" according to a conference call by Hasbro CEO Brian Goldner.\n",
    " \n",
    "In looking at the various collectible card games (CCGs) that have been released since Magic, many, if not most, are no longer in print; this could be taken as a statement that it was no longer viable to create new product or that the creators had completed what they set out to do. This begs the question: \"Why is Magic still so popular?\"\n",
    " \n",
    "Mark Rosewater, current head of R&D for Magic, wrote in 2003 that \"the color pie is the heart of the game.\" The color system was introduced in the first set, Alpha, and continues today. The five colors of Magic are white, blue, black, red, and green, with each color having a specialty, if you will. While describing exactly what each color can do is vast -- an article from 2017 shows primary, secondary, and tertiary mechanics for each color and each subgroup has several examples -- a summary from 2010 will suffice.\n",
    " \n",
    "White mana comes from plains, meadows, and fields.\n",
    "White magic brings light and order.\n",
    " \n",
    "Blue mana comes from islands and bodies of water.\n",
    "Blue magic involves intellect and illusion.\n",
    " \n",
    "Black mana comes from swamps and places of death.\n",
    "Black magic is steeped in darkness and death.\n",
    " \n",
    "Red mana comes from the mountains and rocky places.\n",
    "Red magic calls forth fire and passion.\n",
    " \n",
    "Green mana comes from forests and jungles.\n",
    "Green magic conjures growth and might.\n",
    " \n",
    "“Green magic conjures growth and might” is the focus of this experiment. Specifically, the question to be answered is, “On average, are green creatures more powerful than creatures of other colors?” More precisely, the null hypothesis can be stated as, “The average green creature’s power is not higher than creatures of other colors.” Conversely, the alternative hypothesis can be stated as, “The average green creature’s power is higher than creatures of other colors.”\n",
    " \n",
    "To answer this, a random sampling of cards of each color will be pulled from every card printed which can be found at https://mtgjson.com/api/v5/csv/cards.csv. This dataset contains over 50,000 cards spanning over 27 years with each row representing a card and containing a name, power, toughness, mana cost, as well as useful information. Once the random sampling has been acquired, A/A and A/B tests will be performed. If the data is normally distributed, t-tests will be performed. If the data is not normally distributed, Kruskal-Wallis tests will be performed.\n",
    " \n",
    "Magic Arena boasts over 2.8 billion games played since its launch on September 27th, 2018 for an average of over 24 million games per week. If the color pie is the heart of the game, if it is incorrect, showing the fallacy of it could have a drastic effect on consumer confidence which could lead to decreased revenue, something the millions of players and the investors who have collectively invested millions of dollars don’t want to see."
   ]
  },
  {
   "cell_type": "code",
   "execution_count": 1,
   "metadata": {},
   "outputs": [],
   "source": [
    "#import the necessities\n",
    "import pandas as pd\n",
    "import numpy as np\n",
    "import seaborn as sns\n",
    "import matplotlib.pyplot as plt\n",
    "import random\n",
    "import itertools\n",
    "from scipy import stats\n",
    "from statsmodels.stats.multicomp import pairwise_tukeyhsd\n",
    "%matplotlib inline\n",
    "pd.options.mode.chained_assignment = None  # default='warn'"
   ]
  },
  {
   "cell_type": "code",
   "execution_count": 2,
   "metadata": {},
   "outputs": [],
   "source": [
    "#call the data from the tab delimited txt file\n",
    "mtg = pd.read_csv('D:/Downloads/cardsutf8.txt', sep='\\t', header=0, low_memory=False)"
   ]
  },
  {
   "cell_type": "code",
   "execution_count": 3,
   "metadata": {},
   "outputs": [],
   "source": [
    "#create the variables and sets that will be used later\n",
    "white_creatures = pd.DataFrame()\n",
    "blue_creatures = pd.DataFrame()\n",
    "black_creatures = pd.DataFrame()\n",
    "red_creatures = pd.DataFrame()\n",
    "green_creatures = pd.DataFrame()\n",
    "\n",
    "white_sample = pd.DataFrame()\n",
    "blue_sample = pd.DataFrame()\n",
    "black_sample = pd.DataFrame()\n",
    "red_sample = pd.DataFrame()\n",
    "green_sample = pd.DataFrame()\n",
    "\n",
    "white_sample_2 = pd.DataFrame()\n",
    "blue_sample_2 = pd.DataFrame()\n",
    "black_sample_2 = pd.DataFrame()\n",
    "red_sample_2 = pd.DataFrame()\n",
    "green_sample_2 = pd.DataFrame()"
   ]
  },
  {
   "cell_type": "code",
   "execution_count": 4,
   "metadata": {},
   "outputs": [],
   "source": [
    "## create the dataset of interest\n",
    "#only black border cards are legal to play in\n",
    "#magic so we'll remove the gold and silver\n",
    "#bordered cards\n",
    "filtered_mtg = mtg[mtg['borderColor'] == 'black']\n",
    "\n",
    "#we're only interested in creatures so we'll\n",
    "#drop any rows that aren't creatures\n",
    "filtered_mtg_1 = filtered_mtg[filtered_mtg['types'].str.contains('Creature')]\n",
    "\n",
    "#let's drop the duplicates\n",
    "#for this experiment\n",
    "filtered_mtg_2 = filtered_mtg_1.drop_duplicates(['name'])\n",
    "\n",
    "#some of the values for power are not\n",
    "#ints. because they are variable\n",
    "#we'll drop the values\n",
    "##after talking to my mentor, we determined\n",
    "##a more elegant way to do this would be to\n",
    "##use a lambda function to convert the cells\n",
    "#with strings to null and then dropna\n",
    "filtered_mtg_3 = filtered_mtg_2[(filtered_mtg_2['power'] != '*') & (filtered_mtg_2['power'] != '1+*') &\n",
    "                               (filtered_mtg_2['power'] != '2+*') & (filtered_mtg_2['power'] != '?')]\n",
    "filtered_mtg_3['power'] = filtered_mtg_3['power'].astype(int)\n",
    "\n",
    "#let's get only the columns of interest\n",
    "##while we're only interested in the power for\n",
    "##this experiment, other factors may be analyzed\n",
    "##in this or other experiments\n",
    "dataset = filtered_mtg_3[['id', 'borderColor', 'colors', 'convertedManaCost', 'faceConvertedManaCost',\n",
    "                          'faceName',  'manaCost', 'name', 'power','side', 'subtypes', 'supertypes', 'text', \n",
    "                          'toughness', 'type', 'types']]\n",
    "\n",
    "#for this experiemt, we will focus only on\n",
    "#the cards with a single color\n",
    "#in future analyses, multi-color\n",
    "#cards can also be analyzed\n",
    "white_creatures = dataset[dataset['colors'] == 'W']\n",
    "white_creatures.insert(0, 'unique_id', range(1, 1 + len(white_creatures)))\n",
    "#we will continue this for each color\n",
    "#second is blue\n",
    "blue_creatures = dataset[dataset['colors'] == 'U']\n",
    "blue_creatures.insert(0, 'unique_id', range(1, 1 + len(blue_creatures)))\n",
    "#next black\n",
    "black_creatures = dataset[dataset['colors'] == 'B']\n",
    "black_creatures.insert(0, 'unique_id', range(1, 1 + len(black_creatures)))\n",
    "#then red\n",
    "red_creatures = dataset[dataset['colors'] == 'R']\n",
    "red_creatures.insert(0, 'unique_id', range(1, 1 + len(red_creatures)))\n",
    "#finishing the colors is green\n",
    "green_creatures = dataset[dataset['colors'] == 'G']\n",
    "green_creatures.insert(0, 'unique_id', range(1, 1 + len(green_creatures)))"
   ]
  },
  {
   "cell_type": "code",
   "execution_count": 5,
   "metadata": {},
   "outputs": [],
   "source": [
    "#creating a random sampling from each color\n",
    "##I attempted a power analysis to see what\n",
    "##n I should use. I couldn't determine a \n",
    "##proper value to use so I chose a value\n",
    "##of about 25%.\n",
    "random_set = []\n",
    "for item in range(400):\n",
    "    #create random number here\n",
    "    num = random.randint(1, white_creatures.shape[0])\n",
    "    #check to see if that number has been selected before or not\n",
    "    #if it has been selected, pick another random number\n",
    "    while num in random_set:\n",
    "        num = random.randint(1, white_creatures.shape[0])\n",
    "    #if it hasn't, add it to the list and add the corresponding\n",
    "    #creature information to the statistical sampling set\n",
    "    random_set.append(num)\n",
    "    white_sample = white_sample.append(white_creatures[white_creatures['unique_id'] == num])\n",
    "#repeating the process below\n",
    "#I would love to put these into for loops\n",
    "#but am unable to use multiple variables\n",
    "#with dataframes at present\n",
    "random_set = []\n",
    "for item in range(400):\n",
    "    num = random.randint(1, blue_creatures.shape[0])\n",
    "    while num in random_set:\n",
    "        num = random.randint(1, blue_creatures.shape[0])\n",
    "    random_set.append(num)\n",
    "    blue_sample = blue_sample.append(blue_creatures[blue_creatures['unique_id'] == num])\n",
    "random_set = []\n",
    "for item in range(400):\n",
    "    num = random.randint(1, black_creatures.shape[0])\n",
    "    while num in random_set:\n",
    "        num = random.randint(1, black_creatures.shape[0])\n",
    "    random_set.append(num)\n",
    "    black_sample = black_sample.append(black_creatures[black_creatures['unique_id'] == num])\n",
    "random_set = []\n",
    "for item in range(400):\n",
    "    #create random number here\n",
    "    num = random.randint(1, red_creatures.shape[0])\n",
    "    #check to see if that number has been selected before or not\n",
    "    while num in random_set:\n",
    "        num = random.randint(1, red_creatures.shape[0])\n",
    "    random_set.append(num)\n",
    "    red_sample = red_sample.append(red_creatures[red_creatures['unique_id'] == num])\n",
    "random_set = []\n",
    "for item in range(400):\n",
    "    #create random number here\n",
    "    num = random.randint(1, green_creatures.shape[0])\n",
    "    #check to see if that number has been selected before or not\n",
    "    while num in random_set:\n",
    "        num = random.randint(1, green_creatures.shape[0])\n",
    "    random_set.append(num)\n",
    "    green_sample = green_sample.append(green_creatures[green_creatures['unique_id'] == num])\n",
    "#running the test again to allow for A/A analysis\n",
    "#creating a random sampling from each color\n",
    "random_set = []\n",
    "for item in range(400):\n",
    "    num = random.randint(1, white_creatures.shape[0])\n",
    "    while num in random_set:\n",
    "        num = random.randint(1, white_creatures.shape[0])\n",
    "    random_set.append(num)\n",
    "    white_sample_2 = white_sample_2.append(white_creatures[white_creatures['unique_id'] == num])\n",
    "random_set = []\n",
    "for item in range(400):\n",
    "    num = random.randint(1, blue_creatures.shape[0])\n",
    "    while num in random_set:\n",
    "        num = random.randint(1, blue_creatures.shape[0])\n",
    "    random_set.append(num)\n",
    "    blue_sample_2 = blue_sample_2.append(blue_creatures[blue_creatures['unique_id'] == num])\n",
    "random_set = []\n",
    "for item in range(400):\n",
    "    num = random.randint(1, black_creatures.shape[0])\n",
    "    while num in random_set:\n",
    "        num = random.randint(1, black_creatures.shape[0])\n",
    "    random_set.append(num)\n",
    "    black_sample_2 = black_sample_2.append(black_creatures[black_creatures['unique_id'] == num])\n",
    "random_set = []\n",
    "for item in range(400):\n",
    "    #create random number here\n",
    "    num = random.randint(1, red_creatures.shape[0])\n",
    "    #check to see if that number has been selected before or not\n",
    "    while num in random_set:\n",
    "        num = random.randint(1, red_creatures.shape[0])\n",
    "    random_set.append(num)\n",
    "    red_sample_2 = red_sample_2.append(red_creatures[red_creatures['unique_id'] == num])\n",
    "random_set = []\n",
    "for item in range(400):\n",
    "    #create random number here\n",
    "    num = random.randint(1, green_creatures.shape[0])\n",
    "    #check to see if that number has been selected before or not\n",
    "    while num in random_set:\n",
    "        num = random.randint(1, green_creatures.shape[0])\n",
    "    random_set.append(num)\n",
    "    green_sample_2 = green_sample_2.append(green_creatures[green_creatures['unique_id'] == num])"
   ]
  },
  {
   "cell_type": "code",
   "execution_count": 6,
   "metadata": {},
   "outputs": [
    {
     "name": "stdout",
     "output_type": "stream",
     "text": [
      "The statistics for the first sampling of White creatures are\n",
      "count    400.000000\n",
      "mean       2.150000\n",
      "std        1.058443\n",
      "min        0.000000\n",
      "25%        1.000000\n",
      "50%        2.000000\n",
      "75%        3.000000\n",
      "max        6.000000\n",
      "Name: power, dtype: float64\n",
      "\n",
      " The statistics for the second sampling of White creatures are\n",
      "count    400.000000\n",
      "mean       2.100000\n",
      "std        1.280273\n",
      "min        0.000000\n",
      "25%        1.000000\n",
      "50%        2.000000\n",
      "75%        3.000000\n",
      "max        8.000000\n",
      "Name: power, dtype: float64\n",
      "\n",
      " \n",
      "The statistics for the first sampling of Blue creatures are\n",
      "count    400.00000\n",
      "mean       2.39000\n",
      "std        1.62311\n",
      "min        0.00000\n",
      "25%        1.00000\n",
      "50%        2.00000\n",
      "75%        3.00000\n",
      "max       11.00000\n",
      "Name: power, dtype: float64\n",
      "\n",
      " The statistics for the second sampling of Blue creatures are\n",
      "count    400.000000\n",
      "mean       2.450000\n",
      "std        1.853669\n",
      "min        0.000000\n",
      "25%        1.000000\n",
      "50%        2.000000\n",
      "75%        3.000000\n",
      "max       13.000000\n",
      "Name: power, dtype: float64\n",
      "\n",
      " \n",
      "The statistics for the first sampling of Black creatures are\n",
      "count    400.000000\n",
      "mean       2.602500\n",
      "std        1.622058\n",
      "min        0.000000\n",
      "25%        1.000000\n",
      "50%        2.000000\n",
      "75%        3.000000\n",
      "max       13.000000\n",
      "Name: power, dtype: float64\n",
      "\n",
      " The statistics for the second sampling of Black creatures are\n",
      "count    400.000000\n",
      "mean       2.590000\n",
      "std        1.692353\n",
      "min        0.000000\n",
      "25%        1.000000\n",
      "50%        2.000000\n",
      "75%        3.000000\n",
      "max       13.000000\n",
      "Name: power, dtype: float64\n",
      "\n",
      " \n",
      "The statistics for the first sampling of Red creatures are\n",
      "count    400.000000\n",
      "mean       2.677500\n",
      "std        1.536031\n",
      "min        0.000000\n",
      "25%        2.000000\n",
      "50%        2.000000\n",
      "75%        4.000000\n",
      "max        8.000000\n",
      "Name: power, dtype: float64\n",
      "\n",
      " The statistics for the second sampling of Red creatures are\n",
      "count    400.000000\n",
      "mean       2.655000\n",
      "std        1.554676\n",
      "min        0.000000\n",
      "25%        2.000000\n",
      "50%        2.000000\n",
      "75%        4.000000\n",
      "max        7.000000\n",
      "Name: power, dtype: float64\n",
      "\n",
      " \n",
      "The statistics for the first sampling of Green creatures are\n",
      "count    400.00000\n",
      "mean       2.84500\n",
      "std        2.19614\n",
      "min        0.00000\n",
      "25%        1.00000\n",
      "50%        2.00000\n",
      "75%        4.00000\n",
      "max       16.00000\n",
      "Name: power, dtype: float64\n",
      "\n",
      " The statistics for the second sampling of Green creatures are\n",
      "count    400.000000\n",
      "mean       2.882500\n",
      "std        2.058954\n",
      "min        0.000000\n",
      "25%        1.000000\n",
      "50%        2.000000\n",
      "75%        4.000000\n",
      "max       16.000000\n",
      "Name: power, dtype: float64\n"
     ]
    }
   ],
   "source": [
    "#getting the information from each power\n",
    "print('The statistics for the first sampling of White creatures are')\n",
    "print(white_sample['power'].describe())\n",
    "print('\\nThe statistics for the second sampling of White creatures are')\n",
    "print(white_sample_2['power'].describe())\n",
    "print('\\n\\nThe statistics for the first sampling of Blue creatures are')\n",
    "print(blue_sample['power'].describe())\n",
    "print('\\nThe statistics for the second sampling of Blue creatures are')\n",
    "print(blue_sample_2['power'].describe())\n",
    "print('\\n\\nThe statistics for the first sampling of Black creatures are')\n",
    "print(black_sample['power'].describe())\n",
    "print('\\nThe statistics for the second sampling of Black creatures are')\n",
    "print(black_sample_2['power'].describe())\n",
    "print('\\n\\nThe statistics for the first sampling of Red creatures are')\n",
    "print(red_sample['power'].describe())\n",
    "print('\\nThe statistics for the second sampling of Red creatures are')\n",
    "print(red_sample_2['power'].describe())\n",
    "print('\\n\\nThe statistics for the first sampling of Green creatures are')\n",
    "print(green_sample['power'].describe())\n",
    "print('\\nThe statistics for the second sampling of Green creatures are')\n",
    "print(green_sample_2['power'].describe())"
   ]
  },
  {
   "cell_type": "code",
   "execution_count": 10,
   "metadata": {},
   "outputs": [
    {
     "name": "stdout",
     "output_type": "stream",
     "text": [
      "White Creatures : Sample 1\n"
     ]
    },
    {
     "data": {
      "image/png": "[encoded data removed]",
      "text/plain": [
       "<Figure size 432x288 with 1 Axes>"
      ]
     },
     "metadata": {
      "needs_background": "light"
     },
     "output_type": "display_data"
    },
    {
     "name": "stdout",
     "output_type": "stream",
     "text": [
      "\n",
      "White Creatures : Sample 2\n"
     ]
    },
    {
     "data": {
      "image/png": "[encoded data removed]",
      "text/plain": [
       "<Figure size 432x288 with 1 Axes>"
      ]
     },
     "metadata": {
      "needs_background": "light"
     },
     "output_type": "display_data"
    },
    {
     "name": "stdout",
     "output_type": "stream",
     "text": [
      "\n",
      " \n",
      " Blue Creatures : Sample 1\n"
     ]
    },
    {
     "data": {
      "image/png": "[encoded data removed]",
      "text/plain": [
       "<Figure size 432x288 with 1 Axes>"
      ]
     },
     "metadata": {
      "needs_background": "light"
     },
     "output_type": "display_data"
    },
    {
     "name": "stdout",
     "output_type": "stream",
     "text": [
      "\n",
      " Blue Creatures : Sample 2\n"
     ]
    },
    {
     "data": {
      "image/png": "[encoded data removed]",
      "text/plain": [
       "<Figure size 432x288 with 1 Axes>"
      ]
     },
     "metadata": {
      "needs_background": "light"
     },
     "output_type": "display_data"
    },
    {
     "name": "stdout",
     "output_type": "stream",
     "text": [
      "\n",
      " \n",
      " Black Creatures : Sample 1\n"
     ]
    },
    {
     "data": {
      "image/png": "[encoded data removed]",
      "text/plain": [
       "<Figure size 432x288 with 1 Axes>"
      ]
     },
     "metadata": {
      "needs_background": "light"
     },
     "output_type": "display_data"
    },
    {
     "name": "stdout",
     "output_type": "stream",
     "text": [
      "\n",
      " Black Creatures : Sample 2\n"
     ]
    },
    {
     "data": {
      "image/png": "[encoded data removed]",
      "text/plain": [
       "<Figure size 432x288 with 1 Axes>"
      ]
     },
     "metadata": {
      "needs_background": "light"
     },
     "output_type": "display_data"
    },
    {
     "name": "stdout",
     "output_type": "stream",
     "text": [
      "\n",
      " \n",
      " Red Creatures : Sample 1\n"
     ]
    },
    {
     "data": {
      "image/png": "[encoded data removed]",
      "text/plain": [
       "<Figure size 432x288 with 1 Axes>"
      ]
     },
     "metadata": {
      "needs_background": "light"
     },
     "output_type": "display_data"
    },
    {
     "name": "stdout",
     "output_type": "stream",
     "text": [
      "\n",
      " Red Creatures : Sample 2\n"
     ]
    },
    {
     "data": {
      "image/png": "[encoded data removed]",
      "text/plain": [
       "<Figure size 432x288 with 1 Axes>"
      ]
     },
     "metadata": {
      "needs_background": "light"
     },
     "output_type": "display_data"
    },
    {
     "name": "stdout",
     "output_type": "stream",
     "text": [
      "\n",
      " \n",
      " Green Creatures : Sample 1\n"
     ]
    },
    {
     "data": {
      "image/png": "[encoded data removed]",
      "text/plain": [
       "<Figure size 432x288 with 1 Axes>"
      ]
     },
     "metadata": {
      "needs_background": "light"
     },
     "output_type": "display_data"
    },
    {
     "name": "stdout",
     "output_type": "stream",
     "text": [
      "\n",
      " Green Creatures : Sample 2\n"
     ]
    },
    {
     "data": {
      "image/png": "[encoded data removed]",
      "text/plain": [
       "<Figure size 432x288 with 1 Axes>"
      ]
     },
     "metadata": {
      "needs_background": "light"
     },
     "output_type": "display_data"
    }
   ],
   "source": [
    "#create histograms for all five colors for sample 1 and sample 2\n",
    "print('White Creatures : Sample 1')\n",
    "plt.hist(white_sample['power'], color='gray')\n",
    "plt.show()\n",
    "print('\\nWhite Creatures : Sample 2')\n",
    "plt.hist(white_sample_2['power'], color='gray')\n",
    "plt.show()\n",
    "print('\\n\\nBlue Creatures : Sample 1')\n",
    "plt.hist(blue_sample['power'], color='blue')\n",
    "plt.show()\n",
    "print('\\nBlue Creatures : Sample 2')\n",
    "plt.hist(blue_sample_2['power'], color='blue')\n",
    "plt.show()\n",
    "print('\\n\\nBlack Creatures : Sample 1')\n",
    "plt.hist(black_sample['power'], color='purple')\n",
    "plt.show()\n",
    "print('\\nBlack Creatures : Sample 2')\n",
    "plt.hist(black_sample_2['power'], color='purple')\n",
    "plt.show()\n",
    "print('\\n\\nRed Creatures : Sample 1')\n",
    "plt.hist(red_sample['power'], color='red')\n",
    "plt.show()\n",
    "print('\\nRed Creatures : Sample 2')\n",
    "plt.hist(red_sample_2['power'], color='red')\n",
    "plt.show()\n",
    "print('\\n\\nGreen Creatures : Sample 1')\n",
    "plt.hist(green_sample['power'], color='green')\n",
    "plt.show()\n",
    "print('\\nGreen Creatures : Sample 2')\n",
    "plt.hist(green_sample_2['power'], color='green')\n",
    "plt.show()"
   ]
  },
  {
   "cell_type": "code",
   "execution_count": 12,
   "metadata": {},
   "outputs": [
    {
     "name": "stdout",
     "output_type": "stream",
     "text": [
      "A/A Test on White Creatures\n",
      "KruskalResult(statistic=2.1670269997893734, pvalue=0.1409985902261528)\n",
      "\n",
      " A/A Test on Blue Creatures\n",
      "KruskalResult(statistic=0.01989654503706883, pvalue=0.8878264032823051)\n",
      "\n",
      " A/A Test on Black Creatures\n",
      "KruskalResult(statistic=0.08702869692959848, pvalue=0.7679890931088177)\n",
      "\n",
      " A/A Test on Red Creatures\n",
      "KruskalResult(statistic=0.12672818058090637, pvalue=0.7218487899124728)\n",
      "\n",
      " A/A Test on Green Creatures\n",
      "KruskalResult(statistic=0.5527058242887275, pvalue=0.457214198708477)\n"
     ]
    }
   ],
   "source": [
    "#since the data is not normal, we'll run\n",
    "#kurskal-wallis tests. First, let's run them\n",
    "#on samples 1 and 2 and then green against the\n",
    "#other colors.\n",
    "print('A/A Test on White Creatures')\n",
    "print(stats.kruskal(white_sample['power'], white_sample_2['power']))\n",
    "print('\\nA/A Test on Blue Creatures')\n",
    "print(stats.kruskal(blue_sample['power'], blue_sample_2['power']))\n",
    "print('\\nA/A Test on Black Creatures')\n",
    "print(stats.kruskal(black_sample['power'], black_sample_2['power']))\n",
    "print('\\nA/A Test on Red Creatures')\n",
    "print(stats.kruskal(red_sample['power'], red_sample_2['power']))\n",
    "print('\\nA/A Test on Green Creatures')\n",
    "print(stats.kruskal(green_sample['power'], green_sample_2['power']))"
   ]
  },
  {
   "cell_type": "code",
   "execution_count": 13,
   "metadata": {},
   "outputs": [
    {
     "name": "stdout",
     "output_type": "stream",
     "text": [
      "A/B Test on Green Creatures vs White Creatures\n",
      "KruskalResult(statistic=11.146198659877848, pvalue=0.0008420404547964691)\n",
      "\n",
      "A/B Test on Green Creatures vs Blue Creatures\n",
      "KruskalResult(statistic=5.993441419184248, pvalue=0.014359161837701905)\n",
      "\n",
      "A/B Test on Green Creatures vs Black Creatures\n",
      "KruskalResult(statistic=0.17601445483430636, pvalue=0.6748209676827488)\n",
      "\n",
      "A/B Test on Green Creatures vs Red Creatures\n",
      "KruskalResult(statistic=0.3552657550405595, pvalue=0.5511473432942993)\n"
     ]
    }
   ],
   "source": [
    "#all of these have p values > 0.05 and only\n",
    "#white has a value of statistical significance.\n",
    "#since we fail to reject the null that there's \n",
    "#a meaningful difference in our A/A tests\n",
    "#we'll run kw tests on green vs other colors\n",
    "print('A/B Test on Green Creatures vs White Creatures')\n",
    "print(stats.kruskal(green_sample['power'], white_sample['power']))\n",
    "print('\\nA/B Test on Green Creatures vs Blue Creatures')\n",
    "print(stats.kruskal(green_sample['power'], blue_sample['power']))\n",
    "print('\\nA/B Test on Green Creatures vs Black Creatures')\n",
    "print(stats.kruskal(green_sample['power'], black_sample['power']))\n",
    "print('\\nA/B Test on Green Creatures vs Red Creatures')\n",
    "print(stats.kruskal(green_sample['power'], red_sample['power']))"
   ]
  },
  {
   "cell_type": "code",
   "execution_count": null,
   "metadata": {},
   "outputs": [],
   "source": [
    "#we can reject the null between white/blue\n",
    "#and green creatures but fail to reject\n",
    "#the null for red and black."
   ]
  },
  {
   "cell_type": "markdown",
   "metadata": {},
   "source": [
    "Since we failed to reject to null on half comparisons, we can state safely that there is no meaningful statistical difference between Green and the other colors. Does this mean Wizards is wrong or is misleading their customers and investors? Well, maybe, but probably not. It's likely there are a couple more areas to consider, like bias and other factors.\n",
    "\n",
    "The first item to discuss is bias. There is a large confirmation bias when the player consistently sees cards like Kazandu Stomper and Sneaking Guide (https://gatherer.wizards.com/Pages/Card/Details.aspx?multiverseid=491838 and https://gatherer.wizards.com/Pages/Card/Details.aspx?multiverseid=491772 respectively) and sees that 6 is significantly bigger than 0 and doesn't think about the cards like Tajuru Blightblade and Pyroclastic Hellion (https://gatherer.wizards.com/Pages/Card/Details.aspx?multiverseid=491856 and https://gatherer.wizards.com/Pages/Card/Details.aspx?multiverseid=491793 respectively) to see that 1 is smaller than 4.\n",
    "\n",
    "A second item to investigate is the other factors of the card. We set aside the many other factors of the cards, such as converted mana cost, toughness, rarity, number of times reprinted, etc, to compare power in this experiment. If we were to include these parameters, we might find that Green creatures have higher power relative to their converted mana cost or that Green creatures have a higher power and toughness than the other colors. These could be investigated more in further experiments."
   ]
  }
 ],
 "metadata": {
  "kernelspec": {
   "display_name": "Python 3",
   "language": "python",
   "name": "python3"
  },
  "language_info": {
   "codemirror_mode": {
    "name": "ipython",
    "version": 3
   },
   "file_extension": ".py",
   "mimetype": "text/x-python",
   "name": "python",
   "nbconvert_exporter": "python",
   "pygments_lexer": "ipython3",
   "version": "3.8.3"
  }
 },
 "nbformat": 4,
 "nbformat_minor": 4
}
