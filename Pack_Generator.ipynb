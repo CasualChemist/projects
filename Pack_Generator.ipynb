{
  "nbformat": 4,
  "nbformat_minor": 0,
  "metadata": {
    "colab": {
      "name": "Pack Generator.ipynb",
      "provenance": [],
      "authorship_tag": "ABX9TyOOsT0QUM4miPusPwd4rnot"
    },
    "kernelspec": {
      "name": "python3",
      "display_name": "Python 3"
    }
  },
  "cells": [
    {
      "cell_type": "code",
      "metadata": {
        "id": "CSSNfHwzutjM"
      },
      "source": [
        "# import the necessities\r\n",
        "import pandas as pd\r\n",
        "import numpy as np\r\n",
        "import random"
      ],
      "execution_count": null,
      "outputs": []
    },
    {
      "cell_type": "code",
      "metadata": {
        "id": "o9seXkC4vXyR"
      },
      "source": [
        "# get the .txt\r\n",
        "## one day, i'll host it so  it can be more easily accessed\r\n",
        "bbd_set = pd.read_csv('D:/Coding Files/battlebond.txt', sep='\\t')"
      ],
      "execution_count": null,
      "outputs": []
    },
    {
      "cell_type": "code",
      "metadata": {
        "id": "4nvVBVIv63Ld"
      },
      "source": [
        "# set the number of players here\r\n",
        "players = (#)"
      ],
      "execution_count": null,
      "outputs": []
    },
    {
      "cell_type": "code",
      "metadata": {
        "id": "siRFL0gGwAAc"
      },
      "source": [
        "def winston(players)\r\n",
        "  # creating the shell for now\r\n",
        "  # we'll create the empty pack df that will be used later\r\n",
        "  pack = pd.DataFrame()\r\n",
        "  # p is the required number of \"packs\"\r\n",
        "  p = players * 3\r\n",
        "  # creating a for loop to make \"packs\"\r\n",
        "  for range in p:\r\n",
        "    # there is a 1 in 8 chance for the rare to instead be\r\n",
        "    # a mythic, so we will give the RNG a 1/8 chance to get\r\n",
        "    # a mythic instead of a rare\r\n",
        "    random_set = []\r\n",
        "    num = random.randint(1, 8)\r\n",
        "    if num == 1:\r\n",
        "      card = random.randint(1, 15)\r\n",
        "      pack = pack.append(bbd_set[bbd_set['index'] == card])\r\n",
        "    else:\r\n",
        "      card = random.randint(16, 68)\r\n",
        "      pack = pack.append(bbd_set[bbd_set['index'] == card])\r\n",
        "    # we now create a for loop in this to make a selection of\r\n",
        "    # three uncommons for the pack. because the uncommons\r\n",
        "    # cannot be duplicated in the average pack (excepting\r\n",
        "    # foils that take the place of the common), we write\r\n",
        "    # a piece of code to ensure that there is no duplicate.\r\n",
        "    # each iteration will reset the list so multiple packs\r\n",
        "    # can contain duplicate uncommons or commons\r\n",
        "    ## there are 3 uncommons and 10 commons in each pack,\r\n",
        "    ## so these steps will be repeated the apporpriate\r\n",
        "    ## number of times\r\n",
        "    for range in 3:\r\n",
        "      card = random.randint(69, 148)\r\n",
        "      while card in random_set:\r\n",
        "        card = random.randint(69, 148)\r\n",
        "      random_set.append(card)\r\n",
        "      pack.append(bbd_set[bbd_set['index'] == card])\r\n",
        "    for range in 10:\r\n",
        "      card = random.randint(149, 249)\r\n",
        "      while card in random_set:\r\n",
        "        card = random.randint(149, 249)\r\n",
        "      random_set.append(card)\r\n",
        "      pack.append(bbd_set[bbd_set['index'] == card])\r\n",
        "  print(pack.name.to_string(index=False))"
      ],
      "execution_count": null,
      "outputs": []
    },
    {
      "cell_type": "code",
      "metadata": {
        "id": "vTZuj9pQyDLW"
      },
      "source": [
        ""
      ],
      "execution_count": null,
      "outputs": []
    }
  ]
}